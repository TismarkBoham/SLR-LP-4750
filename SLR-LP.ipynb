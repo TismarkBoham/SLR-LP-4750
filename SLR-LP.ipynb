{
  "cells": [
    {
      "cell_type": "markdown",
      "id": "20f04953-8e3b-4bf2-ac07-34207fed2f94",
      "metadata": {},
      "source": [
        "# BEE 4750 Sea Level Rise Linear Program\n",
        "\n",
        "**Name**: floating sigmas\n",
        "\n",
        "\n",
        "\n",
        "## Setup\n",
        "\n",
        "below are the necessary packages. this code will\n",
        "1. take in a value for flooding\n",
        "2. output an optimal solution for the municipality.\n"
      ]
    },
    {
      "cell_type": "code",
      "execution_count": 1,
      "id": "2",
      "metadata": {},
      "outputs": [
        {
          "name": "stderr",
          "output_type": "stream",
          "text": [
            "\u001b[32m\u001b[1m  Activating\u001b[22m\u001b[39m project at `~/4750coding/SLR-LP-4750`\n"
          ]
        }
      ],
      "source": [
        "import Pkg\n",
        "Pkg.activate(\".\")\n",
        "Pkg.instantiate()"
      ]
    },
    {
      "cell_type": "code",
      "execution_count": 2,
      "id": "4",
      "metadata": {},
      "outputs": [],
      "source": [
        "using JuMP # optimization modeling syntax\n",
        "using HiGHS # optimization solver"
      ]
    },
    {
      "cell_type": "markdown",
      "id": "5fbced4c-bd36-40c3-9e3c-b21186db2bf5",
      "metadata": {},
      "source": [
        "## Overview\n",
        "The goal is to \n",
        "\n",
        "## Exercise (3 points)\n",
        "\n",
        "\n",
        "| Flood protection Type | Price/unit | BUildings protected per  |\n",
        "|:-------------:|:----------------------:|:--------------------:|\n",
        "|        Dry Installation     |   15,000 per building    |         1          |\n",
        "|       Wet installation      |   5,000    |         1          |\n",
        "|       Dyke       |    10million perlength perheight  |                   |\n",
        "\n"
      ]
    },
    {
      "cell_type": "markdown",
      "id": "d988905d",
      "metadata": {},
      "source": [
        "objective - minimize buildings lost\n",
        "\n",
        "variables - how much of each flood proofing to install (A B and C) ((will find real examples later))\n",
        "\n",
        "constraints - cannot go over the budget\n",
        "\n"
      ]
    },
    {
      "cell_type": "code",
      "execution_count": 16,
      "id": "ccd4266e",
      "metadata": {},
      "outputs": [
        {
          "name": "stdout",
          "output_type": "stream",
          "text": [
            "Running HiGHS 1.7.2 (git hash: 5ce7a2753): Copyright (c) 2024 HiGHS under MIT licence terms\n",
            "Coefficient ranges:\n",
            "  Matrix [1e+00, 1e+02]\n",
            "  Cost   [2e+05, 2e+07]\n",
            "  Bound  [0e+00, 0e+00]\n",
            "  RHS    [1e+00, 3e+02]\n",
            "Presolving model\n",
            "1 rows, 3 cols, 3 nonzeros  0s\n",
            "1 rows, 2 cols, 2 nonzeros  0s\n",
            "1 rows, 2 cols, 2 nonzeros  0s\n",
            "\n",
            "Solving MIP model with:\n",
            "   1 rows\n",
            "   2 cols (0 binary, 1 integer, 0 implied int., 1 continuous)\n",
            "   2 nonzeros\n",
            "\n",
            "        Nodes      |    B&B Tree     |            Objective Bounds              |  Dynamic Constraints |       Work      \n",
            "     Proc. InQueue |  Leaves   Expl. | BestBound       BestSol              Gap |   Cuts   InLp Confl. | LpIters     Time\n",
            "\n",
            "         0       0         0   0.00%   -18300000       inf                  inf        0      0      0         0     0.0s\n",
            " T       0       0         0   0.00%   -18300000       1200000         1625.00%        0      0      0         1     0.0s\n",
            "\n",
            "Solving report\n",
            "  Status            Optimal\n",
            "  Primal bound      1200000\n",
            "  Dual bound        1200000\n",
            "  Gap               0% (tolerance: 0.01%)\n",
            "  Solution status   feasible\n",
            "                    1200000 (objective)\n",
            "                    0 (bound viol.)\n",
            "                    0 (int. viol.)\n",
            "                    0 (row viol.)\n",
            "  Timing            0.00 (total)\n",
            "                    0.00 (presolve)\n",
            "                    0.00 (postsolve)\n",
            "  Nodes             1\n",
            "  LP iterations     1 (total)\n",
            "                    0 (strong br.)\n",
            "                    0 (separation)\n",
            "                    0 (heuristics)\n",
            "Optimal solution found:\n",
            "Number of dry installations (x1): 200.0\n",
            "Number of wet installations (x2): 0.0\n",
            "Height of dyke (x3): 1.0 meters\n",
            "Minimum cost: $1.2e6\n"
          ]
        }
      ],
      "source": [
        "using JuMP\n",
        "using HiGHS  # HiGHS solver for linear programming\n",
        "\n",
        "# Import required packages\n",
        "using JuMP\n",
        "using HiGHS\n",
        "\n",
        "# Define parameters\n",
        "c1 = 15_000       # Cost per dry installation\n",
        "c2 = 5_000        # Cost per wet installation\n",
        "c3 = 5_00_000    # Cost of 1 m-high dyke per km\n",
        "d = 200_000       # Damage cost per unprotected house\n",
        "h = 300           # Total number of houses\n",
        "p = 100           # Number of houses protected per km of dyke\n",
        "inputSLR = .5      #from cella\n",
        "s = 2*inputSLR             # height of flood waters\n",
        "dykeHeight = s      #dyke height must= slr \n",
        "\n",
        "# Create a model with HiGHS optimizer\n",
        "model = Model(HiGHS.Optimizer)\n",
        "\n",
        "# Define decision variables\n",
        "@variable(model, x1 >= 0, Int)  # Number of dry installations\n",
        "@variable(model, x2 >= 0, Int)  # Number of wet installations\n",
        "@variable(model, x3 >= 0)       # length of dyke in km\n",
        "\n",
        "\n",
        "\n",
        "# Define the objective function\n",
        "@objective(model, Min, \n",
        "    c1 * x1 + c2 * x2 + (c3 * x3*dykeHeight) + d * (h - (x1 + x2 + p * x3))\n",
        ")\n",
        "\n",
        "# Add constraints\n",
        "@constraint(model, x1 + x2 + p * x3 <= h)  # Protection cannot exceed total houses\n",
        "@constraint(model, x3 <= 1)               # only 1km of dyke install is allowed\n",
        "\n",
        "\n",
        "# Solve the model\n",
        "optimize!(model)\n",
        "\n",
        "# Check and display results\n",
        "if termination_status(model) == MOI.OPTIMAL\n",
        "    println(\"Optimal solution found:\")\n",
        "    println(\"Number of dry installations (x1): \", value(x1))\n",
        "    println(\"Number of wet installations (x2): \", value(x2))\n",
        "    println(\"Height of dyke (x3): \", value(x3), \" meters\")\n",
        "    println(\"Minimum cost: \\$\", objective_value(model))\n",
        "else\n",
        "    println(\"No optimal solution found. Status: \", termination_status(model))\n",
        "end\n",
        "\n",
        "\n",
        "\n",
        "\n"
      ]
    },
    {
      "cell_type": "markdown",
      "metadata": {},
      "source": [
        "NEXT\n",
        "- find actual types of protection, how much they actually cost and how many 'building equivalents' they actually protect\n",
        "- find municipality data for NYC for realistic values of budget etc.\n",
        "- correctly convert the MC Flood value into the buildings lost value 'D' here"
      ]
    },
    {
      "cell_type": "markdown",
      "id": "d5c0029a-608c-435e-8bf2-e17a633ba4b6",
      "metadata": {},
      "source": [
        "## References\n",
        "\n",
        "Put any consulted sources here, including classmates you worked with/who\n",
        "helped you.\n",
        "\n",
        "I worked with Cella Schnabel"
      ]
    },
    {
      "cell_type": "markdown",
      "id": "457b9aa6",
      "metadata": {},
      "source": []
    }
  ],
  "metadata": {
    "kernel_info": {
      "name": "julia"
    },
    "kernelspec": {
      "display_name": "Julia 1.10.4",
      "language": "julia",
      "name": "julia-1.10"
    },
    "language_info": {
      "file_extension": ".jl",
      "mimetype": "application/julia",
      "name": "julia",
      "version": "1.10.4"
    }
  },
  "nbformat": 4,
  "nbformat_minor": 5
}
