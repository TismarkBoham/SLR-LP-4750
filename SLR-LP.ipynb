{
  "cells": [
    {
      "cell_type": "markdown",
      "id": "20f04953-8e3b-4bf2-ac07-34207fed2f94",
      "metadata": {},
      "source": [
        "# BEE 4750 Sea Level Rise Linear Program\n",
        "\n",
        "**Name**: floating sigmas\n",
        "\n",
        "\n",
        "\n",
        "## Setup\n",
        "\n",
        "below are the necessary packages. this code will\n",
        "1. take in a value for flooding\n",
        "2. output an optimal solution for the municipality.\n"
      ]
    },
    {
      "cell_type": "code",
      "execution_count": 1,
      "id": "2",
      "metadata": {},
      "outputs": [
        {
          "name": "stderr",
          "output_type": "stream",
          "text": [
            "\u001b[32m\u001b[1m  Activating\u001b[22m\u001b[39m project at `~/4750coding/SLR-LP-4750`\n"
          ]
        }
      ],
      "source": [
        "import Pkg\n",
        "Pkg.activate(\".\")\n",
        "Pkg.instantiate()"
      ]
    },
    {
      "cell_type": "code",
      "execution_count": 2,
      "id": "4",
      "metadata": {},
      "outputs": [],
      "source": [
        "using JuMP # optimization modeling syntax\n",
        "using HiGHS # optimization solver"
      ]
    },
    {
      "cell_type": "markdown",
      "id": "5fbced4c-bd36-40c3-9e3c-b21186db2bf5",
      "metadata": {},
      "source": [
        "## Overview\n",
        "The goal is to \n",
        "\n",
        "## Exercise (3 points)\n",
        "\n",
        "\n",
        "| Flood protection Type | Price/unit | BUildings protected per  |\n",
        "|:-------------:|:----------------------:|:--------------------:|\n",
        "|        Dry Installation     |   15,000 per building    |         1          |\n",
        "|       Wet installation      |   5,000    |         1          |\n",
        "|       Dyke       |    10million perlength perheight  |                   |\n",
        "\n"
      ]
    },
    {
      "cell_type": "markdown",
      "id": "d988905d",
      "metadata": {},
      "source": [
        "objective - minimize buildings lost\n",
        "\n",
        "variables - how much of each flood proofing to install (A B and C) ((will find real examples later))\n",
        "\n",
        "constraints - cannot go over the budget\n",
        "\n"
      ]
    },
    {
      "cell_type": "code",
      "execution_count": 9,
      "id": "ccd4266e",
      "metadata": {},
      "outputs": [
        {
          "name": "stdout",
          "output_type": "stream",
          "text": [
            "Running HiGHS 1.7.2 (git hash: 5ce7a2753): Copyright (c) 2024 HiGHS under MIT licence terms\n",
            "Coefficient ranges:\n",
            "  Matrix [1e+00, 5e+06]\n",
            "  Cost   [6e+04, 5e+06]\n",
            "  Bound  [0e+00, 0e+00]\n",
            "  RHS    [3e+02, 4e+06]\n",
            "Presolving model\n",
            "2 rows, 2 cols, 4 nonzeros  0s\n",
            "2 rows, 2 cols, 4 nonzeros  0s\n",
            "\n",
            "Solving MIP model with:\n",
            "   2 rows\n",
            "   2 cols (0 binary, 1 integer, 0 implied int., 1 continuous)\n",
            "   4 nonzeros\n",
            "\n",
            "        Nodes      |    B&B Tree     |            Objective Bounds              |  Dynamic Constraints |       Work      \n",
            "     Proc. InQueue |  Leaves   Expl. | BestBound       BestSol              Gap |   Cuts   InLp Confl. | LpIters     Time\n",
            "\n",
            "         0       0         0   0.00%   8710000         inf                  inf        0      0      0         0     0.0s\n",
            "\n",
            "Solving report\n",
            "  Status            Optimal\n",
            "  Primal bound      12700000\n",
            "  Dual bound        12700000\n",
            "  Gap               0% (tolerance: 0.01%)\n",
            "  Solution status   feasible\n",
            "                    12700000 (objective)\n",
            "                    0 (bound viol.)\n",
            "                    0 (int. viol.)\n",
            "                    0 (row viol.)\n",
            "  Timing            0.03 (total)\n",
            "                    0.01 (presolve)\n",
            "                    0.00 (postsolve)\n",
            "  Nodes             1\n",
            "  LP iterations     1 (total)\n",
            "                    0 (strong br.)\n",
            "                    0 (separation)\n",
            "                    0 (heuristics)\n",
            "Optimal solution found:\n",
            "Number of wet installations (x2): 266.0\n",
            "Length of dyke (x3): 0.002 meters\n",
            "2100 Minimum cost: $1.27e7\n",
            "2030 upfront cost: $4.0e6\n"
          ]
        }
      ],
      "source": [
        "using JuMP\n",
        "using HiGHS  # HiGHS solver for linear programming\n",
        "\n",
        "# Import required packages\n",
        "using JuMP\n",
        "using HiGHS\n",
        "\n",
        "# Define parameters\n",
        "c2 = 15_000        # Cost per wet installation\n",
        "c3 = 5_000_000    # Cost of 1 m-high dyke per km\n",
        "d = 200_000       # Damage cost per unprotected house\n",
        "h = 300           # Total number of houses\n",
        "p = 100           # Number of houses protected per km of dyke\n",
        "budget = 4e6        #VARIABLE budget\n",
        "inputSLR = .5      #VARIABLE from cella\n",
        "maxSLR = 1        #VARIABLE actuallyFindThisValue\n",
        "houseDestructionPerc = (inputSLR/maxSLR) #use this percentage for amount of housing lost.\n",
        "dykeHeight = 1      #assume installed dyke must be 1m\n",
        "\n",
        "# Create a model with HiGHS optimizer\n",
        "model = Model(HiGHS.Optimizer)\n",
        "\n",
        "# Define decision variables\n",
        "@variable(model, x2 >= 0, Int)  # Number of wet installations\n",
        "@variable(model, x3 >= 0)       # length of dyke in km\n",
        "\n",
        "\n",
        "\n",
        "# Define the objective function\n",
        "#cost*amt for each thingy, adjust damage cost function based on how much damage the house takes\n",
        "@objective(model, Min, \n",
        "     c2 * x2 + (c3 * x3) + #upfront cost\n",
        "     houseDestructionPerc * d * (h - ( x2 + p * x3)) + #damage cost of untreated houses\n",
        "     x2*.2*houseDestructionPerc * d #damage cost of wet treated houses\n",
        ")\n",
        "\n",
        "# Add constraints\n",
        "@constraint(model, x2 + p * x3 <= h)  # Protection cannot exceed total houses\n",
        "@constraint(model, c2*x2 + c3*x3 <= budget)  #town budget constraint\n",
        "\n",
        "\n",
        "# Solve the model\n",
        "optimize!(model)\n",
        "\n",
        "# Check and display results\n",
        "if termination_status(model) == MOI.OPTIMAL\n",
        "    println(\"Optimal solution found:\")\n",
        "    println(\"Number of wet installations (x2): \", value(x2))\n",
        "    println(\"Length of dyke (x3): \", value(x3), \" meters\")\n",
        "    println(\"2100 Minimum cost: \\$\", objective_value(model))\n",
        "\n",
        "    upfront_cost = c2 * value(x2) + c3 * value(x3) #find the cost in 2030 (itll prob be budget until budget is v high then level)\n",
        "    println(\"2030 upfront cost: \\$\", upfront_cost)\n",
        "\n",
        "\n",
        "else\n",
        "    println(\"No optimal solution found. Status: \", termination_status(model))\n",
        "end\n",
        "\n",
        "\n",
        "\n",
        "\n"
      ]
    },
    {
      "cell_type": "markdown",
      "metadata": {},
      "source": [
        "NEXT\n",
        "- find actual types of protection, how much they actually cost and how many 'building equivalents' they actually protect\n",
        "- find municipality data for NYC for realistic values of budget etc.\n",
        "- correctly convert the MC Flood value into the buildings lost value 'D' here"
      ]
    },
    {
      "cell_type": "markdown",
      "id": "d5c0029a-608c-435e-8bf2-e17a633ba4b6",
      "metadata": {},
      "source": [
        "## References\n",
        "\n",
        "Put any consulted sources here, including classmates you worked with/who\n",
        "helped you.\n",
        "\n",
        "I worked with Cella Schnabel"
      ]
    },
    {
      "cell_type": "markdown",
      "id": "457b9aa6",
      "metadata": {},
      "source": []
    }
  ],
  "metadata": {
    "kernel_info": {
      "name": "julia"
    },
    "kernelspec": {
      "display_name": "Julia 1.10.4",
      "language": "julia",
      "name": "julia-1.10"
    },
    "language_info": {
      "file_extension": ".jl",
      "mimetype": "application/julia",
      "name": "julia",
      "version": "1.10.4"
    }
  },
  "nbformat": 4,
  "nbformat_minor": 5
}
