{
  "cells": [
    {
      "cell_type": "markdown",
      "id": "20f04953-8e3b-4bf2-ac07-34207fed2f94",
      "metadata": {},
      "source": [
        "# BEE 4750 Sea Level Rise Linear Program\n",
        "\n",
        "**Name**: floating sigmas\n",
        "\n",
        "\n",
        "\n",
        "## Setup\n",
        "\n",
        "below are the necessary packages. this code will\n",
        "1. take in a value for flooding\n",
        "2. output an optimal solution for the municipality.\n"
      ]
    },
    {
      "cell_type": "code",
      "execution_count": 1,
      "id": "2",
      "metadata": {},
      "outputs": [
        {
          "name": "stderr",
          "output_type": "stream",
          "text": [
            "\u001b[32m\u001b[1m  Activating\u001b[22m\u001b[39m project at `~/4750coding/SLR-LP-4750`\n"
          ]
        }
      ],
      "source": [
        "import Pkg\n",
        "Pkg.activate(\".\")\n",
        "Pkg.instantiate()"
      ]
    },
    {
      "cell_type": "code",
      "execution_count": 2,
      "id": "4",
      "metadata": {},
      "outputs": [],
      "source": [
        "using JuMP # optimization modeling syntax\n",
        "using HiGHS # optimization solver"
      ]
    },
    {
      "cell_type": "markdown",
      "id": "5fbced4c-bd36-40c3-9e3c-b21186db2bf5",
      "metadata": {},
      "source": [
        "## Overview\n",
        "The goal is to \n",
        "\n",
        "## Exercise (3 points)\n",
        "\n",
        "\n",
        "| Flood protection Type | Price/unit | Protection (buildings/unitOfImplementation) |\n",
        "|:-------------:|:----------------------:|:--------------------:|\n",
        "|       A      |   50,000    |         10          |\n",
        "|       B      |   100,000    |         25          |\n",
        "|       C       |   200,000    |         50          |\n",
        "\n"
      ]
    },
    {
      "cell_type": "markdown",
      "id": "d988905d",
      "metadata": {},
      "source": [
        "objective - minimize buildings lost\n",
        "\n",
        "variables - how much of each flood proofing to install (A B and C) ((will find real examples later))\n",
        "\n",
        "constraints - cannot go over the budget\n",
        "\n"
      ]
    },
    {
      "cell_type": "code",
      "execution_count": 6,
      "id": "ccd4266e",
      "metadata": {},
      "outputs": [
        {
          "name": "stdout",
          "output_type": "stream",
          "text": [
            "Running HiGHS 1.7.2 (git hash: 5ce7a2753): Copyright (c) 2024 HiGHS under MIT licence terms\n",
            "Coefficient ranges:\n",
            "  Matrix [5e+04, 2e+05]\n",
            "  Cost   [1e+01, 5e+01]\n",
            "  Bound  [0e+00, 0e+00]\n",
            "  RHS    [1e+06, 1e+06]\n",
            "Presolving model\n",
            "1 rows, 3 cols, 3 nonzeros  0s\n",
            "0 rows, 1 cols, 0 nonzeros  0s\n",
            "0 rows, 0 cols, 0 nonzeros  0s\n",
            "Presolve : Reductions: rows 0(-1); columns 0(-3); elements 0(-3) - Reduced to empty\n",
            "Solving the original LP from the solution after postsolve\n",
            "Model   status      : Optimal\n",
            "Objective value     :  4.3986483073e+02\n",
            "HiGHS run time      :          0.00\n",
            "Optimal solution found!\n",
            "Amounts of protection to implement:\n",
            "  Protection A: 0.0 units\n",
            "  Protection B: 10.0 units\n",
            "  Protection C: 0.0 units\n",
            "Total flooded buildings: 439.8648307306073\n"
          ]
        }
      ],
      "source": [
        "using JuMP\n",
        "using HiGHS  # HiGHS solver for linear programming\n",
        "\n",
        "# Parameters\n",
        "budget = 1_000_000  # Total budget in dollars\n",
        "flood_level = 5.0   # Example flooding level (e.g., meters)\n",
        "\n",
        "# Flood damage function coefficients\n",
        "a = 100  # Base number of flooded buildings per unit flood level\n",
        "b = 1.2  # Exponent for flood level effect on damage\n",
        "\n",
        "# Infrastructure options (cost per unit, buildings protected per unit)\n",
        "infrastructure = [\n",
        "    (50_000, 10),  # Protection A: $50,000/unit, protects 10 buildings/unit\n",
        "    (100_000, 25), # Protection B: $100,000/unit, protects 25 buildings/unit\n",
        "    (200_000, 50)  # Protection C: $200,000/unit, protects 50 buildings/unit\n",
        "]\n",
        "\n",
        "# Calculate the total number of buildings at risk based on flood level\n",
        "D = a * flood_level^b\n",
        "\n",
        "# Create a JuMP model with HiGHS solver\n",
        "model = Model(HiGHS.Optimizer)\n",
        "\n",
        "# Decision variables: amount of protection for each option\n",
        "@variable(model, x[1:length(infrastructure)] >= 0)\n",
        "\n",
        "# Objective: Minimize the number of flooded buildings\n",
        "@objective(model, Min, D - sum(infrastructure[i][2] * x[i] for i in 1:length(infrastructure)))\n",
        "\n",
        "# Constraint 1: Budget constraint\n",
        "@constraint(model, sum(infrastructure[i][1] * x[i] for i in 1:length(infrastructure)) <= budget)\n",
        "\n",
        "# Solve the model\n",
        "optimize!(model)\n",
        "\n",
        "# Check and display results\n",
        "if termination_status(model) == MOI.OPTIMAL\n",
        "    println(\"Optimal solution found!\")\n",
        "    println(\"Amounts of protection to implement:\")\n",
        "    for i in 1:length(infrastructure)\n",
        "        println(\"  Protection $(Char('A' + i - 1)): $(value(x[i])) units\")\n",
        "    end\n",
        "    println(\"Total flooded buildings: \", D - sum(infrastructure[i][2] * value(x[i]) for i in 1:length(infrastructure)))\n",
        "else\n",
        "    println(\"No optimal solution found.\")\n",
        "end"
      ]
    },
    {
      "cell_type": "markdown",
      "metadata": {},
      "source": [
        "NEXT\n",
        "- find actual types of protection, how much they actually cost and how many 'building equivalents' they actually protect\n",
        "- find municipality data for NYC for realistic values of budget etc.\n",
        "- correctly convert the MC Flood value into the buildings lost value 'D' here"
      ]
    },
    {
      "cell_type": "markdown",
      "id": "d5c0029a-608c-435e-8bf2-e17a633ba4b6",
      "metadata": {},
      "source": [
        "## References\n",
        "\n",
        "Put any consulted sources here, including classmates you worked with/who\n",
        "helped you.\n",
        "\n",
        "I worked with Cella Schnabel"
      ]
    },
    {
      "cell_type": "markdown",
      "id": "457b9aa6",
      "metadata": {},
      "source": []
    }
  ],
  "metadata": {
    "kernel_info": {
      "name": "julia"
    },
    "kernelspec": {
      "display_name": "Julia 1.10.4",
      "language": "julia",
      "name": "julia-1.10"
    },
    "language_info": {
      "file_extension": ".jl",
      "mimetype": "application/julia",
      "name": "julia",
      "version": "1.10.4"
    }
  },
  "nbformat": 4,
  "nbformat_minor": 5
}
